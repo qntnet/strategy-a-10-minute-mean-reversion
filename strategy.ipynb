{
 "cells": [
  {
   "cell_type": "markdown",
   "metadata": {},
   "source": [
    "# Метод возвращения к среднему\n",
    "\n",
    "В этом примере рассматривается метод возвращения цены к среднему значению за счет колебаний высокочастотных компонент."
   ]
  },
  {
   "cell_type": "code",
   "execution_count": null,
   "metadata": {},
   "outputs": [],
   "source": [
    "from qnt.data    import load_data, write_output\n",
    "from qnt.stepper import test_strategy\n",
    "from qnt.stats   import calc_stat\n",
    "from qnt.graph   import make_plot, make_plot_filled"
   ]
  },
  {
   "cell_type": "code",
   "execution_count": null,
   "metadata": {
    "scrolled": true
   },
   "outputs": [],
   "source": [
    "assets_names = [\"NASDAQ:FB\"]\n",
    "\n",
    "data = load_data(min_date = \"2010-01-01\",\n",
    "                 max_date = \"2016-12-31\",\n",
    "                 dims     = (\"time\", \"field\", \"asset\"),\n",
    "                 assets   = assets_names)"
   ]
  },
  {
   "cell_type": "markdown",
   "metadata": {},
   "source": [
    "## Реализация"
   ]
  },
  {
   "cell_type": "markdown",
   "metadata": {},
   "source": [
    "Рассмотрим график доходностей акции Facebook."
   ]
  },
  {
   "cell_type": "code",
   "execution_count": null,
   "metadata": {},
   "outputs": [],
   "source": [
    "prices = data.loc[:, \"open\", \"NASDAQ:FB\"].to_series().iloc[::-1].dropna()\n",
    "make_plot(prices.index, prices.pct_change(1), name=\"daily returns\", color=\"#17BECF\")"
   ]
  },
  {
   "cell_type": "markdown",
   "metadata": {},
   "source": [
    "По графику видно, что происходят колебания около среднего значения: если доходность отклонилась в одну сторону, то она возвращается обратно. Напишем стратегию, которая покупает, когда доходность (относительное изменение цены) сильно отклоняется от среднего в отрицательную область и продает, когда в положительную."
   ]
  },
  {
   "cell_type": "code",
   "execution_count": null,
   "metadata": {},
   "outputs": [],
   "source": [
    "def step(data):\n",
    "\n",
    "    is_liquid = data.loc[::-1, \"is_liquid\", :]\n",
    "\n",
    "    prices         = data.loc[::-1, \"open\", :]\n",
    "    prices_shifted = prices.shift({\"time\": 1})\n",
    "    returns        = (prices - prices_shifted)/prices_shifted\n",
    "\n",
    "    deviation = returns.rolling({\"time\": 250}).std()\n",
    "\n",
    "    large_dev = (abs(returns) > deviation).astype(int)\n",
    "\n",
    "    weights = -returns/abs(returns) * large_dev * is_liquid.astype(int)\n",
    "\n",
    "    weights_sum = abs(weights).sum(\"asset\")\n",
    "\n",
    "    weights_norm = weights / weights_sum\n",
    "    weights = weights.fillna(0.0)\n",
    "\n",
    "    return weights[-1]\n",
    "\n",
    "init_data_length = 250\n",
    "\n",
    "output = test_strategy(data, step=step, init_data_length=init_data_length)"
   ]
  },
  {
   "cell_type": "markdown",
   "metadata": {},
   "source": [
    "## Результаты"
   ]
  },
  {
   "cell_type": "code",
   "execution_count": null,
   "metadata": {},
   "outputs": [],
   "source": [
    "stat = calc_stat(data, output, slippage_factor=0.05)\n",
    "display(stat.to_pandas().tail())"
   ]
  },
  {
   "cell_type": "markdown",
   "metadata": {},
   "source": [
    "Данная идея содержит несколько проблемных моментов. Например, частая покупка-продажа акций приводит к большим потерям относительно прироста капитала, поэтому необходимо работать с более медленно обращающимися к среднему характеристиками; в случае сильного тренда цена после отклонения разворачивается к среднему значению, но и среднее значение следует тренду: открытая, согласно сигналу о продаже, короткая позиция в случае резкого роста цены приведет к потере капитала. Указанные выше замечания делают написание стратегий возвращения к среднему более сложными нежели trend-following."
   ]
  },
  {
   "cell_type": "markdown",
   "metadata": {},
   "source": [
    "\n",
    "## Построение графиков"
   ]
  },
  {
   "cell_type": "code",
   "execution_count": null,
   "metadata": {},
   "outputs": [],
   "source": [
    "performance = stat.to_pandas()[\"equity\"]\n",
    "make_plot_filled(performance.index, performance, name=\"PnL (Equity)\", type=\"log\")"
   ]
  },
  {
   "cell_type": "code",
   "execution_count": null,
   "metadata": {},
   "outputs": [],
   "source": [
    "UWchart = stat.to_pandas()[\"underwater\"]\n",
    "make_plot_filled(UWchart.index, UWchart, color=\"darkred\", name=\"Underwater Chart\", range_max= 0)"
   ]
  },
  {
   "cell_type": "code",
   "execution_count": null,
   "metadata": {},
   "outputs": [],
   "source": [
    "SRchart = stat.to_pandas()[\"sharpe_ratio\"].iloc[20:]\n",
    "make_plot_filled(SRchart.index, SRchart, color=\"#F442C5\", name=\"Rolling SR\")"
   ]
  },
  {
   "cell_type": "code",
   "execution_count": null,
   "metadata": {},
   "outputs": [],
   "source": [
    "biaschart = stat.to_pandas()[\"bias\"]\n",
    "make_plot_filled(biaschart.index, biaschart, color=\"#5A6351\", name=\"Bias Chart\")"
   ]
  },
  {
   "cell_type": "markdown",
   "metadata": {},
   "source": [
    "## Заключение"
   ]
  },
  {
   "cell_type": "code",
   "execution_count": null,
   "metadata": {},
   "outputs": [],
   "source": [
    "data   = load_data(min_date=\"2015-01-01\", dims=(\"time\", \"field\", \"asset\"), assets=assets_names)\n",
    "output = test_strategy(data, step=step, init_data_length=init_data_length)\n",
    "write_output(output)"
   ]
  }
 ],
 "metadata": {
  "kernelspec": {
   "display_name": "Python 3",
   "language": "python",
   "name": "python3"
  },
  "language_info": {
   "codemirror_mode": {
    "name": "ipython",
    "version": 3
   },
   "file_extension": ".py",
   "mimetype": "text/x-python",
   "name": "python",
   "nbconvert_exporter": "python",
   "pygments_lexer": "ipython3",
   "version": "3.7.2"
  }
 },
 "nbformat": 4,
 "nbformat_minor": 2
}
