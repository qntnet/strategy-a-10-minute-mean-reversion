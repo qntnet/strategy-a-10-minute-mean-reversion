{
 "cells": [
  {
   "cell_type": "markdown",
   "metadata": {},
   "source": [
    "# A 10-minute Mean-Reversion Template\n",
    "\n",
    "This simple template provides basic instructions for helping you within 10 minutes to develop and submit a mean-reversion strategy on liquid assets. Mean reversion in finance relies on the belief that stock prices tend to move to their average over time."
   ]
  },
  {
   "cell_type": "code",
   "execution_count": null,
   "metadata": {},
   "outputs": [],
   "source": [
    "# Import basic libraries for manipulating data.\n",
    "\n",
    "# Please refer to xarray.pydata.org for xarray documentation.\n",
    "\n",
    "# xarray works optimally with N-dimensional datasets in Python\n",
    "# and is well suited for financial datasets with labels \"time\",\n",
    "# \"field\" and \"asset\". xarray data structures can also be easily\n",
    "# converted to pandas dataframes.\n",
    "\n",
    "import xarray as xr\n",
    "\n",
    "import numpy as np\n",
    "import pandas as pd\n",
    "\n",
    "# Import quantnet libraries.\n",
    "\n",
    "import qnt.data as qndata       # data loading and manipulation\n",
    "import qnt.stepper as qnstepper # strategy definition\n",
    "import qnt.stats as qnstats     # key statistics\n",
    "import qnt.graph as qngraph     # graphical tools\n",
    "\n",
    "# display function for fancy displaying:\n",
    "from IPython.display import display"
   ]
  },
  {
   "cell_type": "code",
   "execution_count": null,
   "metadata": {},
   "outputs": [],
   "source": [
    "# Load all available asset names since given date.\n",
    "\n",
    "# Note that submissions will be accepted only with a 3-year\n",
    "# simulated track record on historical data before submission\n",
    "# date.\n",
    "\n",
    "assets = qndata.load_assets(min_date=\"2015-01-01\")\n",
    "\n",
    "assets_names = [i[\"id\"] for i in assets]\n",
    "\n",
    "# Load all available data since given date.\n",
    "\n",
    "# It is possible to set a max_date in the call in order to\n",
    "# develop the system on a limited in-sample period and later\n",
    "# test the system on unseen data after max_date.\n",
    "\n",
    "# A submission will be accepted only if no max_date is set,\n",
    "# as submissions will be evaluated on live data on a daily basis.\n",
    "\n",
    "data = qndata.load_data(min_date=\"2015-01-01\",\n",
    "                       #max_date=\"2019-02-28\",\n",
    "                        dims=(\"time\", \"field\", \"asset\"),\n",
    "                        assets=assets_names)"
   ]
  },
  {
   "cell_type": "code",
   "execution_count": null,
   "metadata": {},
   "outputs": [],
   "source": [
    "# A simple mean-reversion strategy on liquid assets allocates\n",
    "# fractions of capital according to the deviation from the historical\n",
    "# average price.\n",
    "# Here xarray data structures are converted to pandas\n",
    "# dataframes for simplicity in order to describe the\n",
    "# development process.\n",
    "\n",
    "# xarray.DataArray are converted to pandas dataframes\n",
    "# and time stamps are arranged in ascending order:\n",
    "is_liquid = data.loc[:, \"is_liquid\", :].to_pandas().iloc[::-1,:]\n",
    "\n",
    "# extract close prices:\n",
    "prices = data.loc[:, \"close\", :].to_pandas().iloc[::-1,:]\n",
    "\n",
    "# compute average:\n",
    "avg_prices = prices.rolling(100).mean()\n",
    "\n",
    "# compute size of relative returns and take average:\n",
    "returns = prices.pct_change(1).abs().rolling(10).mean()\n",
    "\n",
    "# go long when prices are too low compared to the mean:\n",
    "go_long = (prices < avg_prices * (1.0-returns)).astype(int)\n",
    "\n",
    "# go short when prices are too high compared to the mean:\n",
    "go_short = (prices > avg_prices * (1.0+returns)).astype(int)\n",
    "\n",
    "# select liquid assets only:\n",
    "liq_avg_returns = (is_liquid > 0.0).astype(int).multiply(go_long-go_short)\n",
    "\n",
    "# set and normalize weights according to past performance:\n",
    "weights = liq_avg_returns.div(liq_avg_returns.abs().sum(axis=1, skipna=True), axis=0)\n",
    "weights = weights.fillna(0.0)\n",
    "\n",
    "display(weights)"
   ]
  },
  {
   "cell_type": "code",
   "execution_count": null,
   "metadata": {},
   "outputs": [],
   "source": [
    "# check that we are fully invested <=> sum of abs(weights) = 1:\n",
    "display(weights.abs().sum(axis=1))"
   ]
  },
  {
   "cell_type": "code",
   "execution_count": null,
   "metadata": {},
   "outputs": [],
   "source": [
    "# visualize positions for a selected asset:\n",
    "aapl_frac = weights[\"NASDAQ:AAPL\"]\n",
    "qngraph.make_plot(aapl_frac.index, aapl_frac, name= \"aapl\")"
   ]
  },
  {
   "cell_type": "code",
   "execution_count": null,
   "metadata": {},
   "outputs": [],
   "source": [
    "# Using the following function ensures that no forward-looking\n",
    "# is taking place, at the cost of a slower execution. In the\n",
    "# step function we work directly with xarray data structures\n",
    "# avoiding conversion to pandas dataframes for avoiding a loss\n",
    "# of computational speed.\n",
    "\n",
    "def step(data):\n",
    "    \"\"\"Implements the previous strategy and evaluates\n",
    "    positions at a fixed point in time.\n",
    "\n",
    "    Args: data, an xarray.DataArray with 3 coordinates:\n",
    "          time, field, asset\n",
    "\n",
    "    Returns: an xarray.DataArray with fractions which\n",
    "        will be allocated to all assets on the next day\n",
    "    \"\"\"\n",
    "\n",
    "    is_liquid = data.loc[::-1,\"is_liquid\",:]\n",
    "    prices = data.loc[::-1,\"close\",:]\n",
    "    avg_prices = prices.rolling({\"time\":100}).mean()\n",
    "    prices_shifted = prices.shift({\"time\":1})\n",
    "    returns = (abs((prices - prices_shifted)/prices_shifted).rolling({\"time\":10}).mean())\n",
    "    go_long = (prices < avg_prices * (1.0-returns)).astype(int)\n",
    "    go_short = (prices > avg_prices * (1.0+returns)).astype(int)\n",
    "    liq_avg_returns = (is_liquid > 0.0).astype(int)*(go_long-go_short)\n",
    "    weights = liq_avg_returns / abs(liq_avg_returns).sum(\"asset\")\n",
    "    weights = weights.fillna(0.0)\n",
    "\n",
    "    return weights[-1]"
   ]
  },
  {
   "cell_type": "code",
   "execution_count": null,
   "metadata": {},
   "outputs": [],
   "source": [
    "# a single call to the step function generates positions\n",
    "# for the last available date in the simulation timeframe:\n",
    "display(step(data))"
   ]
  },
  {
   "cell_type": "code",
   "execution_count": null,
   "metadata": {},
   "outputs": [],
   "source": [
    "# The quantnet libraries provide a test function for checking\n",
    "# formal correctness of the defined strategy. Input arguments\n",
    "# are the data, the step function and a warm-up period, which\n",
    "# we set in this case to 100 trading days.\n",
    "\n",
    "output = qnstepper.test_strategy(data, step=step, init_data_length=100)"
   ]
  },
  {
   "cell_type": "code",
   "execution_count": null,
   "metadata": {},
   "outputs": [],
   "source": [
    "# Calculate statistics on a rolling basis.\n",
    "\n",
    "# Transactions are punished with slippage equal to a given\n",
    "# fraction of ATR14 (read more about slippage in our full\n",
    "# Strategy Buy and Hold template). We evaluate submissions\n",
    "# using 5% of ATR14 for slippage.\n",
    "\n",
    "# Mean return, volatility and Sharpe ratio are computed on a\n",
    "# rolling basis using a lookback period of 3 years.\n",
    "\n",
    "stat = qnstats.calc_stat(data, output, slippage_factor=0.05)\n",
    "\n",
    "display(stat.to_pandas().tail())"
   ]
  },
  {
   "cell_type": "code",
   "execution_count": null,
   "metadata": {},
   "outputs": [],
   "source": [
    "def print_stat(stat):\n",
    "    \"\"\"Prints selected statistical key indicators:\n",
    "       - the global Sharpe ratio of the strategy;\n",
    "       - the global mean profit;\n",
    "       - the global volatility;\n",
    "       - the maximum drawdown.\n",
    "\n",
    "       Note that Sharpe ratio, mean profit and volatility\n",
    "       apply to  max simulation period, and not to the\n",
    "       rolling basis of 3 years.\n",
    "    \"\"\"\n",
    "\n",
    "    days = len(stat.coords[\"time\"])\n",
    "    \n",
    "    returns = stat.loc[:, \"relative_return\"]\n",
    "\n",
    "    equity = stat.loc[:, \"equity\"]\n",
    "    \n",
    "    sharpe_ratio = qnstats.calc_sharpe_ratio_annualized(\n",
    "        returns,\n",
    "        max_periods=days,\n",
    "        min_periods=days).to_pandas().values[-1]\n",
    "\n",
    "    profit = (qnstats.calc_mean_return_annualized(\n",
    "        returns,\n",
    "        max_periods=days,\n",
    "        min_periods=days).to_pandas().values[-1])*100.0\n",
    "\n",
    "    volatility = (qnstats.calc_volatility_annualized(\n",
    "        returns,\n",
    "        max_periods=days,\n",
    "        min_periods=days).to_pandas().values[-1])*100.0\n",
    "\n",
    "    max_ddown = (qnstats.calc_max_drawdown(\n",
    "        qnstats.calc_underwater(equity)).to_pandas().values[-1])*100.0\n",
    "\n",
    "    print(\"Sharpe Ratio         : \", \"{0:.3f}\".format(sharpe_ratio))\n",
    "    print(\"Mean Return [%]      : \", \"{0:.3f}\".format(profit))\n",
    "    print(\"Volatility [%]       : \", \"{0:.3f}\".format(volatility))\n",
    "    print(\"Maximum Drawdown [%] : \", \"{0:.3f}\".format(-max_ddown))\n",
    "\n",
    "print_stat(stat)"
   ]
  },
  {
   "cell_type": "code",
   "execution_count": null,
   "metadata": {},
   "outputs": [],
   "source": [
    "# show plot with profit and losses:\n",
    "performance = stat.to_pandas()[\"equity\"]\n",
    "qngraph.make_plot_filled(performance.index, performance, name=\"PnL (Equity)\", type=\"log\")"
   ]
  },
  {
   "cell_type": "code",
   "execution_count": null,
   "metadata": {},
   "outputs": [],
   "source": [
    "# show underwater chart:\n",
    "UWchart = stat.to_pandas()[\"underwater\"]\n",
    "qngraph.make_plot_filled(UWchart.index, UWchart, color=\"darkred\", name=\"Underwater Chart\")"
   ]
  },
  {
   "cell_type": "code",
   "execution_count": null,
   "metadata": {},
   "outputs": [],
   "source": [
    "# show rolling Sharpe ratio on a 3-year basis:\n",
    "SRchart = stat.to_pandas()[\"sharpe_ratio\"].iloc[20:]\n",
    "qngraph.make_plot_filled(SRchart.index, SRchart, color=\"#F442C5\", name=\"Rolling SR\")"
   ]
  },
  {
   "cell_type": "code",
   "execution_count": null,
   "metadata": {},
   "outputs": [],
   "source": [
    "# show bias chart:\n",
    "biaschart = stat.to_pandas()[\"bias\"]\n",
    "qngraph.make_plot_filled(biaschart.index, biaschart, color=\"#5A6351\", name=\"Bias Chart\")"
   ]
  },
  {
   "cell_type": "code",
   "execution_count": null,
   "metadata": {},
   "outputs": [],
   "source": [
    "# Finally, we write the last mandatory step for submission,\n",
    "# namely writing output to file:\n",
    "\n",
    "qndata.write_output(output)"
   ]
  },
  {
   "cell_type": "markdown",
   "metadata": {},
   "source": [
    "At this stage code is ready for submission. Just click on the submission button in your account page and we will evaluate your strategy live on our servers!\n",
    "\n",
    "For speeding up evaluation, you can consider submitting a copy with only relevant steps and excluding plots. Your code in the final notebook you submit can be as simple as the following, which we include into the Mean-Reversion Submission Raw Template:"
   ]
  },
  {
   "cell_type": "code",
   "execution_count": null,
   "metadata": {},
   "outputs": [],
   "source": [
    "\"\"\"\n",
    "import xarray as xr\n",
    "import qnt.data as qndata\n",
    "\n",
    "data = qndata.load_data(min_date=\"2015-01-01\",\n",
    "                        dims=(\"time\", \"field\", \"asset\"))\n",
    "\n",
    "is_liquid = data.loc[::-1,\"is_liquid\",:]\n",
    "\n",
    "prices = data.loc[::-1,\"close\",:]\n",
    "avg_prices = prices.rolling({\"time\":100}).mean()\n",
    "\n",
    "prices_shifted = prices.shift({\"time\":1})\n",
    "returns = (abs((prices - prices_shifted)/prices_shifted).rolling({\"time\":10}).mean())\n",
    "\n",
    "go_long = (prices < avg_prices * (1.0-returns)).astype(int)\n",
    "go_short = (prices > avg_prices * (1.0+returns)).astype(int)\n",
    "\n",
    "liq_avg_returns = (is_liquid > 0.0).astype(int)*(go_long-go_short)\n",
    "\n",
    "weights = liq_avg_returns / abs(liq_avg_returns).sum(\"asset\")\n",
    "weights = weights.fillna(0.0)\n",
    "\n",
    "qndata.write_output(weights)\n",
    "\"\"\""
   ]
  }
 ],
 "metadata": {
  "kernelspec": {
   "display_name": "Python 3",
   "language": "python",
   "name": "python3"
  },
  "language_info": {
   "codemirror_mode": {
    "name": "ipython",
    "version": 3
   },
   "file_extension": ".py",
   "mimetype": "text/x-python",
   "name": "python",
   "nbconvert_exporter": "python",
   "pygments_lexer": "ipython3",
   "version": "3.7.2"
  }
 },
 "nbformat": 4,
 "nbformat_minor": 2
}
